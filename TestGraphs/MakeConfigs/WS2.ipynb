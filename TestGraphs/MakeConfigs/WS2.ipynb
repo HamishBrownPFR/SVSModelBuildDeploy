{
 "cells": [
  {
   "cell_type": "code",
   "execution_count": 13,
   "id": "5d0cd442-4d73-4aaa-90f0-63dd7945be5f",
   "metadata": {},
   "outputs": [],
   "source": [
    "import os\n",
    "import pandas as pd"
   ]
  },
  {
   "cell_type": "code",
   "execution_count": 14,
   "id": "9f1dfee6-ad9f-4a0e-8324-31498e929c91",
   "metadata": {
    "tags": []
   },
   "outputs": [],
   "source": [
    "path = os.getcwd().split(\"\\\\SVSModelBuildDeploy\\\\\")[0]+\"\\\\SVSModelBuildDeploy\\\\TestComponents\\\\TestSets\\\\WS2\""
   ]
  },
  {
   "cell_type": "code",
   "execution_count": 15,
   "id": "d59b0fce-0c79-46fb-a0df-85c0c1d6e5bf",
   "metadata": {},
   "outputs": [],
   "source": [
    "Configs = pd.read_excel(path+\"\\\\FieldConfigs.xlsx\",nrows=48,usecols=lambda x: 'Unnamed' not in x)"
   ]
  },
  {
   "cell_type": "code",
   "execution_count": 16,
   "id": "83ad032a-d4db-4bb3-b289-c9c5679888dc",
   "metadata": {
    "tags": []
   },
   "outputs": [],
   "source": [
    "Configs.set_index('Name',inplace=True)"
   ]
  },
  {
   "cell_type": "code",
   "execution_count": 17,
   "id": "f1eb965a-7faa-4228-8052-754213d42587",
   "metadata": {
    "tags": []
   },
   "outputs": [],
   "source": [
    "CSConfigs = Configs.transpose()\n",
    "CSConfigs.to_csv(path+\"\\\\FieldConfigs.csv\",header=True)"
   ]
  },
  {
   "cell_type": "code",
   "execution_count": 18,
   "id": "acea3a05-e847-42d0-afa6-82245a56da6a",
   "metadata": {},
   "outputs": [],
   "source": [
    "Configs.to_pickle(path+\"\\\\FieldConfigs.pkl\")"
   ]
  }
 ],
 "metadata": {
  "jupytext": {
   "formats": "ipynb,py:light"
  },
  "kernelspec": {
   "display_name": "Python 3 (ipykernel)",
   "language": "python",
   "name": "python3"
  },
  "language_info": {
   "codemirror_mode": {
    "name": "ipython",
    "version": 3
   },
   "file_extension": ".py",
   "mimetype": "text/x-python",
   "name": "python",
   "nbconvert_exporter": "python",
   "pygments_lexer": "ipython3",
   "version": "3.10.13"
  }
 },
 "nbformat": 4,
 "nbformat_minor": 5
}
